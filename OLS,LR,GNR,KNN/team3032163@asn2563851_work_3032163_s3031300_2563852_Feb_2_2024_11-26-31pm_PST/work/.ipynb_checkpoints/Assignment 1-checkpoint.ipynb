{
 "cells": [
  {
   "cell_type": "markdown",
   "metadata": {
    "pycharm": {
     "name": "#%% md\n"
    }
   },
   "source": [
    "## ISYE 6740 - Assignment 1 - Regression\n",
    "\n",
    "### Please leave the name of your teammate here if applicable."
   ]
  },
  {
   "cell_type": "code",
   "execution_count": 1,
   "metadata": {
    "collapsed": true
   },
   "outputs": [],
   "source": [
    "### Insert Name Here"
   ]
  },
  {
   "cell_type": "markdown",
   "metadata": {},
   "source": [
    "### 1. OLS Linear Regression\n",
    "\n",
    "* In this question, we use a dataset of concrete to study OLS linear regression. For both training and testing data, the first 8 columns are features of concrete and the last column is \"Concrete compressive strenth\". We will train a linear regression model to predict the target variable of \"Concrete compressive strenth\".\n",
    "* Please refer to the following package for OLS linear regression:\n",
    "https://scikit-learn.org/stable/modules/generated/sklearn.linear_model.LinearRegression.html\n",
    "* For this regression problem, we use Mean Square Error (MSE) as the metric to evaluate the performance of trained models. Given $n$ samples, let $\\{Y_i\\}_{i=1}^n$ be the observed values of the variable being predicted and $\\{\\hat{Y}_i\\}_{i=1}^n$ be the predicted values. Then the MSE of the predictor is computed as \n",
    "<center>$\\text{MSE} = \\frac{1}{n} \\sum_{i=1}^n (Y_i-\\hat{Y}_i)^2$.\n",
    "\n",
    "#### a) Traing a linear regression model using the training set and report the training MSE."
   ]
  },
  {
   "cell_type": "code",
   "execution_count": 1,
   "metadata": {
    "collapsed": true,
    "pycharm": {
     "name": "#%%\n"
    }
   },
   "outputs": [],
   "source": [
    "### Insert Code Here"
   ]
  },
  {
   "cell_type": "markdown",
   "metadata": {
    "pycharm": {
     "name": "#%% md\n"
    }
   },
   "source": [
    "#### b) Evalaute the learnt model using the testing set. Please report the testing MSE."
   ]
  },
  {
   "cell_type": "code",
   "execution_count": null,
   "metadata": {
    "collapsed": true
   },
   "outputs": [],
   "source": [
    "### Insert Code Here"
   ]
  },
  {
   "cell_type": "markdown",
   "metadata": {
    "pycharm": {
     "name": "#%% md\n"
    }
   },
   "source": [
    "#### c) Which of the MSEs on the training and testing sets is larger? Why?"
   ]
  },
  {
   "cell_type": "code",
   "execution_count": null,
   "metadata": {
    "collapsed": true,
    "pycharm": {
     "name": "#%%\n"
    }
   },
   "outputs": [],
   "source": [
    "### Your Answer Here"
   ]
  },
  {
   "cell_type": "markdown",
   "metadata": {},
   "source": [
    "#### d) If we have infintely many training data points, can we make MSE (on the testing set) of our model as small as possible? Why?"
   ]
  },
  {
   "cell_type": "code",
   "execution_count": null,
   "metadata": {
    "collapsed": true
   },
   "outputs": [],
   "source": [
    "### Your Answer Here"
   ]
  },
  {
   "cell_type": "markdown",
   "metadata": {
    "pycharm": {
     "name": "#%% md\n"
    }
   },
   "source": [
    "#### e) Use gradient descent to train a linear regression model. Recall that the objective function is \n",
    "<center>$\\hat{w}=\\mathop{\\arg\\min}_{w}\\frac{1}{n} \\sum_{i=1}^n (Y_i-X_i^\\top w)^2$</center>\n",
    "    \n",
    "Here, set max_iteration = 1e5, stepsize = 3e-7, and stopping criterion = 1e-5. Please compute the gradient of the parameters and then follow the algorithm outline to finish your codes. \n",
    "\n",
    "#### Please plot the optimization error $\\text{Opt. Err.} = \\|\\hat{w}-w^{(k)}\\|_2^2$ vs iteration, where $\\hat{w}$ is the coefficient vector (including intercept) learnt in a) and $w^{(k)}$ is the coefficient vector at the $k$-th iteration of gradient descent."
   ]
  },
  {
   "cell_type": "code",
   "execution_count": 214,
   "metadata": {
    "collapsed": true,
    "pycharm": {
     "name": "#%%\n"
    }
   },
   "outputs": [],
   "source": [
    "### Insert Code Here\n",
    "\n",
    "#initialize parameter vetor w.\n",
    "#loop t=1:max_iter:\n",
    "#    update w using gradient (Hint: compute X'X and X'Y).\n",
    "#    Compute the testing MSE of parameter w.\n",
    "#    Stop the iteration if the 2-norm of gradient is smaller than 1e-5."
   ]
  },
  {
   "cell_type": "markdown",
   "metadata": {},
   "source": [
    "#### f) Please plot the testing MSE vs iteration."
   ]
  },
  {
   "cell_type": "code",
   "execution_count": null,
   "metadata": {
    "collapsed": true
   },
   "outputs": [],
   "source": [
    "### Insert Code Here"
   ]
  },
  {
   "cell_type": "markdown",
   "metadata": {},
   "source": [
    "#### g) Given what you have observed in e) and f), what can you say about the number of iterations we need from a prediction perspective? Why?"
   ]
  },
  {
   "cell_type": "code",
   "execution_count": null,
   "metadata": {
    "collapsed": true
   },
   "outputs": [],
   "source": [
    "### Insert Code Here"
   ]
  },
  {
   "cell_type": "markdown",
   "metadata": {
    "pycharm": {
     "name": "#%% md\n"
    }
   },
   "source": [
    "### 2. Robust Regression\n",
    "\n",
    "* Please find the Concrete dataset for Q2.\n",
    "* This dataset is very similiar that of Q1, but the training set is contaminated.\n",
    "* Please refer to the following package for quantile regression:\n",
    "https://scikit-learn.org/stable/auto_examples/linear_model/plot_quantile_regression.html\n",
    "* Note that the quantile regression is identical to LAD regression when using 50% quantile. \n",
    "\n",
    "#### a) Train a linear regression model on the training dataset using OLS, and report the testing MSE."
   ]
  },
  {
   "cell_type": "code",
   "execution_count": 2,
   "metadata": {
    "collapsed": true
   },
   "outputs": [],
   "source": [
    "### Insert Code Here"
   ]
  },
  {
   "cell_type": "markdown",
   "metadata": {
    "pycharm": {
     "name": "#%% md\n"
    }
   },
   "source": [
    "#### b) Train a linear regression model on the training dataset using LAD (set regularization constant alpha =1), and report the testing MSE."
   ]
  },
  {
   "cell_type": "code",
   "execution_count": 3,
   "metadata": {
    "collapsed": true
   },
   "outputs": [],
   "source": [
    "### Insert Code Here"
   ]
  },
  {
   "cell_type": "markdown",
   "metadata": {
    "pycharm": {
     "name": "#%% md\n"
    }
   },
   "source": [
    "#### c) Does LAD outperform OLS? Why?"
   ]
  },
  {
   "cell_type": "code",
   "execution_count": 3,
   "metadata": {
    "collapsed": true,
    "pycharm": {
     "name": "#%%\n"
    }
   },
   "outputs": [],
   "source": [
    "### Your Answer Here"
   ]
  },
  {
   "cell_type": "markdown",
   "metadata": {
    "pycharm": {
     "name": "#%% md\n"
    }
   },
   "source": [
    "### 3. Linear Classification\n",
    "\n",
    "* In this question, we use a dataset about spam emails to study linear classifiers. For both training and testing data, the first 57 columns are different features of emails, such as the frequency of occurence of a particular word, and the last column shows whether an email is spam (1 for spam). We will train linear classifiers to predict if a given email is spam.\n",
    "* Please refer to the following package for different linear classifiers.\\\n",
    "\n",
    "Linear Discriminant Analysis Classifier:\n",
    "https://scikit-learn.org/stable/modules/generated/sklearn.discriminant_analysis.LinearDiscriminantAnalysis.html\n",
    "\n",
    "Gaussian Naive Bayes Classifier:\n",
    "https://scikit-learn.org/stable/modules/naive_bayes.html\n",
    "\n",
    "Logistic Regression Classifier:\n",
    "https://scikit-learn.org/stable/modules/generated/sklearn.linear_model.LogisticRegression.html\n",
    "\n",
    "* For this classification problem, we use classification error as the metric to evaluate the performance of trained models. Given $n$ samples, let $\\{Y_i\\}_{i=1}^n$ be the observed labels of the variable being predicted and $\\{\\hat{Y}_i\\}_{i=1}^n$ be the predicted labels. Then the classification error of the predictor is computed as\n",
    "<center>$\\text{Classification Error} = \\frac{1}{n} \\sum_{i=1}^n \\mathbb{1}(Y_i \\neq \\hat{Y}_i).$\n",
    "\n",
    "\n",
    "#### a) Train a Linear Discriminant Analysis Classifier using the training set and report the classification error on the testing set."
   ]
  },
  {
   "cell_type": "code",
   "execution_count": 4,
   "metadata": {
    "collapsed": true
   },
   "outputs": [],
   "source": [
    "### Insert Code Here"
   ]
  },
  {
   "cell_type": "markdown",
   "metadata": {
    "pycharm": {
     "name": "#%% md\n"
    }
   },
   "source": [
    "#### b) Repeat the above using Gaussian Naive Bayes Classifier."
   ]
  },
  {
   "cell_type": "code",
   "execution_count": 5,
   "metadata": {
    "collapsed": true
   },
   "outputs": [],
   "source": [
    "### Insert Code Here"
   ]
  },
  {
   "cell_type": "markdown",
   "metadata": {
    "pycharm": {
     "name": "#%% md\n"
    }
   },
   "source": [
    "#### c) Repeat the above using Logistic Regression Classifier."
   ]
  },
  {
   "cell_type": "code",
   "execution_count": 6,
   "metadata": {
    "collapsed": true
   },
   "outputs": [],
   "source": [
    "### Insert Code Here"
   ]
  },
  {
   "cell_type": "markdown",
   "metadata": {
    "pycharm": {
     "name": "#%% md\n"
    }
   },
   "source": [
    "#### d) Please compare the classification errors of Linear Discriminant Analysis and Guassian Naive Bayes Classifier, and provide an explanation for the results."
   ]
  },
  {
   "cell_type": "code",
   "execution_count": 6,
   "metadata": {
    "collapsed": true
   },
   "outputs": [],
   "source": [
    "### Your Answer Here"
   ]
  },
  {
   "cell_type": "markdown",
   "metadata": {
    "pycharm": {
     "name": "#%% md\n"
    }
   },
   "source": [
    "#### e) Please compare the classification errors of Linear Discriminant Analysis and Logistic Regression, and provide an explanation for the results."
   ]
  },
  {
   "cell_type": "code",
   "execution_count": 6,
   "metadata": {
    "collapsed": true
   },
   "outputs": [],
   "source": [
    "### Your Answer Here"
   ]
  },
  {
   "cell_type": "markdown",
   "metadata": {
    "pycharm": {
     "name": "#%% md\n"
    }
   },
   "source": [
    "### 4. K Nearest Neighbor Classifier\n",
    "\n",
    "* In this question, we use a dataset about diabetes to study K Nearest Neighbor Classifier. For both training and testing data, the first 8 columns are different diagnostic measurements of patients, such as Blppd Pressure and BMI, and the last column shows whether a patient has diabetes (1 for diabetes). We will train a K Nearest Neighbor Classifier to predict if a person has diabetes.\n",
    "* Please refer to the following package for K Nearest Neighbor Classifier:\n",
    "https://scikit-learn.org/stable/modules/generated/sklearn.neighbors.KNeighborsClassifier.html\n",
    "\n",
    "#### a) Train a K Nearest Neighbor Classifier with Euclidean Distance (Try K=3,6,9,12,15) to fit provided the diabetes training set , and predict the responses of the testing set. Plot the classification error vs K."
   ]
  },
  {
   "cell_type": "code",
   "execution_count": 7,
   "metadata": {
    "collapsed": true
   },
   "outputs": [],
   "source": [
    "### Insert Code Here"
   ]
  },
  {
   "cell_type": "markdown",
   "metadata": {
    "pycharm": {
     "name": "#%% md\n"
    }
   },
   "source": [
    "#### b) Repeat the above using a K Nearest Neighbor Classifier with Manhattan Distance ($L_1$-distance)."
   ]
  },
  {
   "cell_type": "code",
   "execution_count": 8,
   "metadata": {
    "collapsed": true,
    "pycharm": {
     "name": "#%%\n"
    }
   },
   "outputs": [],
   "source": [
    "### Insert Code Here"
   ]
  },
  {
   "cell_type": "markdown",
   "metadata": {},
   "source": [
    "#### c) Repeat the above using a Logistic Regression Classifier, and compare its testing error with those of the K Nearest Neighbor Classifiers. Do you observe any difference? Why?"
   ]
  },
  {
   "cell_type": "code",
   "execution_count": null,
   "metadata": {
    "collapsed": true
   },
   "outputs": [],
   "source": [
    "### Insert Code Here"
   ]
  }
 ],
 "metadata": {
  "kernelspec": {
   "display_name": "Python 3 [3.7]",
   "language": "python",
   "name": "python3"
  },
  "language_info": {
   "codemirror_mode": {
    "name": "ipython",
    "version": 3
   },
   "file_extension": ".py",
   "mimetype": "text/x-python",
   "name": "python",
   "nbconvert_exporter": "python",
   "pygments_lexer": "ipython3",
   "version": "3.7.5"
  }
 },
 "nbformat": 4,
 "nbformat_minor": 4
}
