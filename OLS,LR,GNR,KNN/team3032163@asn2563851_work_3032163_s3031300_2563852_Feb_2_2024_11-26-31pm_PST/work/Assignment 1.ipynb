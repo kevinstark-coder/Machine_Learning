{
 "cells": [
  {
   "cell_type": "markdown",
   "metadata": {
    "pycharm": {
     "name": "#%% md\n"
    }
   },
   "source": [
    "## ISYE 6740 - Assignment 1 - Regression\n",
    "\n",
    "### Please leave the name of your teammate here if applicable."
   ]
  },
  {
   "cell_type": "code",
   "execution_count": 1,
   "metadata": {
    "collapsed": true
   },
   "outputs": [],
   "source": [
    "##insert your name here"
   ]
  },
  {
   "cell_type": "markdown",
   "metadata": {},
   "source": [
    "### 1. OLS Linear Regression\n",
    "\n",
    "* In this question, we use a dataset of concrete to study OLS linear regression. For both training and testing data, the first 8 columns are features of concrete and the last column is \"Concrete compressive strenth\". We will train a linear regression model to predict the target variable of \"Concrete compressive strenth\".\n",
    "* Please refer to the following package for OLS linear regression:\n",
    "https://scikit-learn.org/stable/modules/generated/sklearn.linear_model.LinearRegression.html\n",
    "* For this regression problem, we use Mean Square Error (MSE) as the metric to evaluate the performance of trained models. Given $n$ samples, let $\\{Y_i\\}_{i=1}^n$ be the observed values of the variable being predicted and $\\{\\hat{Y}_i\\}_{i=1}^n$ be the predicted values. Then the MSE of the predictor is computed as \n",
    "<center>$\\text{MSE} = \\frac{1}{n} \\sum_{i=1}^n (Y_i-\\hat{Y}_i)^2$.\n",
    "\n",
    "#### a) Traing a linear regression model using the training set and report the training MSE."
   ]
  },
  {
   "cell_type": "code",
   "execution_count": 1,
   "metadata": {
    "pycharm": {
     "name": "#%%\n"
    }
   },
   "outputs": [
    {
     "name": "stdout",
     "output_type": "stream",
     "text": [
      "101.06509371850498\n"
     ]
    }
   ],
   "source": [
    "import numpy as np\n",
    "from sklearn.linear_model import LinearRegression\n",
    "from sklearn.metrics import mean_squared_error\n",
    "import pandas as pd\n",
    "\n",
    "df = pd.read_excel(\"./Q1_train.xls\")\n",
    "X_train = df.iloc[:,0:-1].values\n",
    "Y_train = df.iloc[:,-1].values\n",
    "model = LinearRegression(fit_intercept=True)\n",
    "model.fit(X_train, Y_train)\n",
    "predictions_train = model.predict(X_train)\n",
    "mse_train = mean_squared_error(Y_train, predictions_train)\n",
    "print(mse_train)\n"
   ]
  },
  {
   "cell_type": "markdown",
   "metadata": {
    "pycharm": {
     "name": "#%% md\n"
    }
   },
   "source": [
    "#### b) Evalaute the learnt model using the testing set. Please report the testing MSE."
   ]
  },
  {
   "cell_type": "code",
   "execution_count": 2,
   "metadata": {
    "collapsed": true
   },
   "outputs": [
    {
     "name": "stdout",
     "output_type": "stream",
     "text": [
      "5.111198817050521\n",
      "130.57162483135338\n"
     ]
    }
   ],
   "source": [
    "df_test = pd.read_excel(\"./Q1_test.xls\")\n",
    "X_test = df_test.iloc[:,0:8].values\n",
    "Y_test = df_test.iloc[:,8].values\n",
    "predictions_train = model.predict(X_test)\n",
    "mse_test = mean_squared_error(Y_test, predictions_train)\n",
    "# print(model.coef_)\n",
    "print(model.intercept_)\n",
    "print(mse_test)"
   ]
  },
  {
   "cell_type": "markdown",
   "metadata": {
    "pycharm": {
     "name": "#%% md\n"
    }
   },
   "source": [
    "#### c) Which of the MSEs on the training and testing sets is larger? Why?"
   ]
  },
  {
   "cell_type": "markdown",
   "metadata": {},
   "source": [
    "The test set is larger, because the trained model may overfit and trained set may not cover the test data domain."
   ]
  },
  {
   "cell_type": "markdown",
   "metadata": {},
   "source": [
    "#### d) If we have infintely many training data points, can we make MSE (on the testing set) of our model as small as possible? Why?"
   ]
  },
  {
   "cell_type": "markdown",
   "metadata": {},
   "source": [
    "This fist depends on how the traning dataset's distribution can cover the testing dataset's distribution, i.e. if the data points are the same points. Second, whether the model is appropriate for this prediction is a question, if the model selected is not applicable, like the linear prediction model might not be applicable to predict data who owns non-linear relation between features and label. Then, error still exsits. "
   ]
  },
  {
   "cell_type": "markdown",
   "metadata": {
    "pycharm": {
     "name": "#%% md\n"
    }
   },
   "source": [
    "#### e) Use gradient descent to train a linear regression model. Recall that the objective function is \n",
    "<center>$\\hat{w}=\\mathop{\\arg\\min}_{w}\\frac{1}{n} \\sum_{i=1}^n (Y_i-X_i^\\top w)^2$</center>\n",
    "    \n",
    "Here, set max_iteration = 1e5, stepsize = 3e-7, and stopping criterion = 1e-5. Please compute the gradient of the parameters and then follow the algorithm outline to finish your codes. \n",
    "\n",
    "#### Please plot the optimization error $\\text{Opt. Err.} = \\|\\hat{w}-w^{(k)}\\|_2^2$ vs iteration, where $\\hat{w}$ is the coefficient vector (including intercept) learnt in a) and $w^{(k)}$ is the coefficient vector at the $k$-th iteration of gradient descent."
   ]
  },
  {
   "cell_type": "code",
   "execution_count": 4,
   "metadata": {
    "collapsed": true,
    "pycharm": {
     "name": "#%%\n"
    }
   },
   "outputs": [
    {
     "name": "stdout",
     "output_type": "stream",
     "text": [
      "(9,) (9,)\n",
      "(800, 9)\n",
      "[-2.36806353e-05  1.19717450e-01  1.04583438e-01  8.92610147e-02\n",
      " -2.03113279e-01  9.95920215e-02  8.14201071e-03  1.70587399e-02\n",
      "  1.09783059e-01]\n",
      "\n",
      " [ 5.11119882  0.11474118  0.09854176  0.08039343 -0.1961972   0.21584407\n",
      "  0.00677105  0.01266422  0.10922624]\n",
      "1.689757357021999\n"
     ]
    }
   ],
   "source": [
    "### Insert Code Here\n",
    "import matplotlib as plt\n",
    "X_train = df.iloc[:,0:-1].values\n",
    "gradient_norm = 1\n",
    "iteration = 0\n",
    "stepsize = 3e-7\n",
    "coef = model.coef_\n",
    "coef = list(coef)\n",
    "coef.insert(0,model.intercept_)\n",
    "coef = np.array(coef)\n",
    "X_axis = []\n",
    "Y_axis = []\n",
    "X_test = np.c_[np.ones(X_test.shape[0]),X_test]\n",
    "X_train = np.c_[np.ones(X_train.shape[0]),X_train]\n",
    "weight = np.zeros(X_train.shape[1])\n",
    "print(weight.shape, coef.shape)\n",
    "print(X_train.shape)\n",
    "while( gradient_norm>= 1e-05 and iteration < 1e5):\n",
    "    predictions_train = X_train.dot(weight)\n",
    "    pred_error = Y_train - predictions_train\n",
    "    gradient = -X_train.T.dot(pred_error)/ len(Y_train)\n",
    "    weight -= gradient * stepsize\n",
    "    opt_error = mean_squared_error(weight, coef) * 9\n",
    "    # a = opt_error = np.linalg.norm(weight-coef,2)**2\n",
    "    gradient_norm = np.linalg.norm(gradient, 2)\n",
    "    iteration+=1\n",
    "    X_axis.append(iteration)\n",
    "    Y_axis.append(opt_error)\n",
    "    predictions_test = X_test.dot(weight)\n",
    "    if iteration%5000 ==0:\n",
    "        mse_train = mean_squared_error(Y_train, predictions_train)\n",
    "        mse_test = mean_squared_error(Y_test, predictions_test)\n",
    "            # print(f\"At {iteration} th iteration, the test_set_error is {mse_test}, the train set error is {mse_train}\")\n",
    "        # print(iteration)\n",
    "        # print(gradient_norm)\n",
    "# print(a)\n",
    "print(weight)\n",
    "print(\"\\n\", coef)\n",
    "print(gradient_norm)\n",
    "# initialize parameter vetor w.\n",
    "# loop t=1:max_iter:\n",
    "#    update w using gradient (Hint: compute X'X and X'Y).\n",
    "#    Compute the testing MSE of parameter w.\n",
    "#    Stop the iteration if the 2-norm of gradient is smaller than 1e-5."
   ]
  },
  {
   "cell_type": "markdown",
   "metadata": {},
   "source": [
    "#### f) Please plot the testing MSE vs iteration."
   ]
  },
  {
   "cell_type": "code",
   "execution_count": 5,
   "metadata": {
    "collapsed": true
   },
   "outputs": [
    {
     "name": "stdout",
     "output_type": "stream",
     "text": [
      "[-2.36806353e-05  1.19717450e-01  1.04583438e-01  8.92610147e-02\n",
      " -2.03113279e-01  9.95920215e-02  8.14201071e-03  1.70587399e-02\n",
      "  1.09783059e-01]\n",
      "\n",
      " [ 5.11119882  0.11474118  0.09854176  0.08039343 -0.1961972   0.21584407\n",
      "  0.00677105  0.01266422  0.10922624]\n"
     ]
    },
    {
     "data": {
      "image/png": "[encoded data removed]",
      "text/plain": [
       "<Figure size 640x480 with 1 Axes>"
      ]
     },
     "metadata": {},
     "output_type": "display_data"
    }
   ],
   "source": [
    "### Insert Code Here\n",
    "import matplotlib.pyplot as plt\n",
    "print(weight)\n",
    "print(\"\\n\", coef)\n",
    "plt.plot(X_axis, Y_axis)\n",
    "plt.show()"
   ]
  },
  {
   "cell_type": "markdown",
   "metadata": {},
   "source": [
    "#### g) Given what you have observed in e) and f), what can you say about the number of iterations we need from a prediction perspective? Why?"
   ]
  },
  {
   "cell_type": "markdown",
   "metadata": {},
   "source": []
  },
  {
   "cell_type": "markdown",
   "metadata": {
    "pycharm": {
     "name": "#%% md\n"
    }
   },
   "source": [
    "### 2. Robust Regression\n",
    "\n",
    "* Please find the Concrete dataset for Q2.\n",
    "* This dataset is very similiar that of Q1, but the training set is contaminated.\n",
    "* Please refer to the following package for quantile regression:\n",
    "https://scikit-learn.org/stable/auto_examples/linear_model/plot_quantile_regression.html\n",
    "* Note that the quantile regression is identical to LAD regression when using 50% quantile. \n",
    "\n",
    "#### a) Train a linear regression model on the training dataset using OLS, and report the testing MSE."
   ]
  },
  {
   "cell_type": "code",
   "execution_count": 6,
   "metadata": {
    "collapsed": true
   },
   "outputs": [
    {
     "name": "stdout",
     "output_type": "stream",
     "text": [
      "173.65733448483687\n"
     ]
    }
   ],
   "source": [
    "df = pd.read_excel(\"./Q2_train.xls\")\n",
    "X_train = df.iloc[:,0:-1].values\n",
    "Y_train = df.iloc[:,-1].values\n",
    "df = pd.read_excel(\"./Q2_test.xls\")\n",
    "X_test = df.iloc[:,0:-1].values\n",
    "Y_test = df.iloc[:,-1].values\n",
    "model = LinearRegression(fit_intercept=True)\n",
    "model.fit(X_train, Y_train)\n",
    "predictions_train = model.predict(X_test)\n",
    "mse_test = mean_squared_error(Y_test, predictions_train)\n",
    "print(mse_test)\n",
    "\n"
   ]
  },
  {
   "cell_type": "markdown",
   "metadata": {
    "pycharm": {
     "name": "#%% md\n"
    }
   },
   "source": [
    "#### b) Train a linear regression model on the training dataset using LAD (set regularization constant alpha =1), and report the testing MSE."
   ]
  },
  {
   "cell_type": "code",
   "execution_count": 7,
   "metadata": {
    "collapsed": true
   },
   "outputs": [
    {
     "name": "stdout",
     "output_type": "stream",
     "text": [
      "137.7399386816783\n"
     ]
    }
   ],
   "source": [
    "from sklearn.linear_model import QuantileRegressor\n",
    "\n",
    "model = QuantileRegressor(quantile= 0.5, alpha=1, solver = 'highs')\n",
    "y_pred = model.fit(X_train, Y_train).predict(X_test)\n",
    "mse_test = mean_squared_error(Y_test, y_pred)\n",
    "print(mse_test)"
   ]
  },
  {
   "cell_type": "markdown",
   "metadata": {
    "pycharm": {
     "name": "#%% md\n"
    }
   },
   "source": [
    "#### c) Does LAD outperform OLS? Why?"
   ]
  },
  {
   "cell_type": "markdown",
   "metadata": {},
   "source": [
    "Yes, because the outlier has enhanced the MSE error in OLS method."
   ]
  },
  {
   "cell_type": "markdown",
   "metadata": {
    "pycharm": {
     "name": "#%% md\n"
    }
   },
   "source": [
    "### 3. Linear Classification\n",
    "\n",
    "* In this question, we use a dataset about spam emails to study linear classifiers. For both training and testing data, the first 57 columns are different features of emails, such as the frequency of occurence of a particular word, and the last column shows whether an email is spam (1 for spam). We will train linear classifiers to predict if a given email is spam.\n",
    "* Please refer to the following package for different linear classifiers.\\\n",
    "\n",
    "Linear Discriminant Analysis Classifier:\n",
    "https://scikit-learn.org/stable/modules/generated/sklearn.discriminant_analysis.LinearDiscriminantAnalysis.html\n",
    "\n",
    "Gaussian Naive Bayes Classifier:\n",
    "https://scikit-learn.org/stable/modules/naive_bayes.html\n",
    "\n",
    "Logistic Regression Classifier:\n",
    "https://scikit-learn.org/stable/modules/generated/sklearn.linear_model.LogisticRegression.html\n",
    "\n",
    "* For this classification problem, we use classification error as the metric to evaluate the performance of trained models. Given $n$ samples, let $\\{Y_i\\}_{i=1}^n$ be the observed labels of the variable being predicted and $\\{\\hat{Y}_i\\}_{i=1}^n$ be the predicted labels. Then the classification error of the predictor is computed as\n",
    "<center>$\\text{Classification Error} = \\frac{1}{n} \\sum_{i=1}^n \\mathbb{1}(Y_i \\neq \\hat{Y}_i).$\n",
    "\n",
    "\n",
    "#### a) Train a Linear Discriminant Analysis Classifier using the training set and report the classification error on the testing set."
   ]
  },
  {
   "cell_type": "code",
   "execution_count": 8,
   "metadata": {
    "collapsed": true
   },
   "outputs": [
    {
     "name": "stdout",
     "output_type": "stream",
     "text": [
      "0.09940249864204237\n"
     ]
    }
   ],
   "source": [
    "from sklearn.discriminant_analysis import LinearDiscriminantAnalysis\n",
    "train_df = pd.read_csv(\"./Q3_train.csv\")\n",
    "test_df = pd.read_csv(\"./Q3_test.csv\")\n",
    "\n",
    "X_train = train_df.iloc[:,:-1].values\n",
    "Y_train = train_df.iloc[:,-1].values\n",
    "X_test = test_df.iloc[:,:-1].values\n",
    "Y_test = test_df.iloc[:,-1].values\n",
    "\n",
    "clf = LinearDiscriminantAnalysis()\n",
    "clf.fit(X_train, Y_train)\n",
    "predictions_test = clf.predict(X_test)\n",
    "sum =0\n",
    "for i,j in enumerate(predictions_test):\n",
    "    if predictions_test[i] != Y_test[i]:\n",
    "        sum+=1\n",
    "print(sum/len(Y_test))\n"
   ]
  },
  {
   "cell_type": "markdown",
   "metadata": {
    "pycharm": {
     "name": "#%% md\n"
    }
   },
   "source": [
    "#### b) Repeat the above using Gaussian Naive Bayes Classifier."
   ]
  },
  {
   "cell_type": "code",
   "execution_count": 9,
   "metadata": {
    "collapsed": true
   },
   "outputs": [
    {
     "name": "stdout",
     "output_type": "stream",
     "text": [
      "0.19174361759913092\n"
     ]
    }
   ],
   "source": [
    "from sklearn.naive_bayes import GaussianNB\n",
    "gnb = GaussianNB()\n",
    "predictions_test = gnb.fit(X_train, Y_train).predict(X_test)\n",
    "sum =0\n",
    "for i,j in enumerate(predictions_test):\n",
    "    if predictions_test[i] != Y_test[i]:\n",
    "        sum+=1\n",
    "print(sum/len(Y_test))\n"
   ]
  },
  {
   "cell_type": "markdown",
   "metadata": {
    "pycharm": {
     "name": "#%% md\n"
    }
   },
   "source": [
    "#### c) Repeat the above using Logistic Regression Classifier."
   ]
  },
  {
   "cell_type": "code",
   "execution_count": 10,
   "metadata": {
    "collapsed": true
   },
   "outputs": [
    {
     "name": "stdout",
     "output_type": "stream",
     "text": [
      "0.07495926127104835\n"
     ]
    }
   ],
   "source": [
    "from sklearn.linear_model import LogisticRegression\n",
    "predictions_test = LogisticRegression(random_state=0,max_iter=100000).fit(X_train, Y_train).predict(X_test)\n",
    "sum =0\n",
    "for i,j in enumerate(predictions_test):\n",
    "    if predictions_test[i] != Y_test[i]:\n",
    "        sum+=1\n",
    "print(sum/len(Y_test))"
   ]
  },
  {
   "cell_type": "markdown",
   "metadata": {
    "pycharm": {
     "name": "#%% md\n"
    }
   },
   "source": [
    "#### d) Please compare the classification errors of Linear Discriminant Analysis and Guassian Naive Bayes Classifier, and provide an explanation for the results."
   ]
  },
  {
   "cell_type": "markdown",
   "metadata": {},
   "source": [
    "The linear discriminant analysis' error is lower, this is because Gaussian Naive Bayes assumes the input classes variables are independent, however, it is not true in terms of the frequency of words appeared in the text."
   ]
  },
  {
   "cell_type": "markdown",
   "metadata": {
    "pycharm": {
     "name": "#%% md\n"
    }
   },
   "source": [
    "#### e) Please compare the classification errors of Linear Discriminant Analysis and Logistic Regression, and provide an explanation for the results."
   ]
  },
  {
   "cell_type": "markdown",
   "metadata": {},
   "source": [
    "The logistic regression perfroms better because LR do not depend on assumption on feature distribution whereas LDA assumes the features in each class they have equal covariance matrices across classes."
   ]
  },
  {
   "cell_type": "markdown",
   "metadata": {
    "pycharm": {
     "name": "#%% md\n"
    }
   },
   "source": [
    "### 4. K Nearest Neighbor Classifier\n",
    "\n",
    "* In this question, we use a dataset about diabetes to study K Nearest Neighbor Classifier. For both training and testing data, the first 8 columns are different diagnostic measurements of patients, such as Blppd Pressure and BMI, and the last column shows whether a patient has diabetes (1 for diabetes). We will train a K Nearest Neighbor Classifier to predict if a person has diabetes.\n",
    "* Please refer to the following package for K Nearest Neighbor Classifier:\n",
    "https://scikit-learn.org/stable/modules/generated/sklearn.neighbors.KNeighborsClassifier.html\n",
    "\n",
    "#### a) Train a K Nearest Neighbor Classifier with Euclidean Distance (Try K=3,6,9,12,15) to fit provided the diabetes training set , and predict the responses of the testing set. Plot the classification error vs K."
   ]
  },
  {
   "cell_type": "code",
   "execution_count": 11,
   "metadata": {
    "collapsed": true
   },
   "outputs": [
    {
     "name": "stdout",
     "output_type": "stream",
     "text": [
      "[0.3110236220472441, 0.2677165354330709, 0.2440944881889764, 0.25196850393700787, 0.2637795275590551]\n"
     ]
    },
    {
     "data": {
      "image/png": "[encoded data removed]",
      "text/plain": [
       "<Figure size 640x480 with 1 Axes>"
      ]
     },
     "metadata": {},
     "output_type": "display_data"
    }
   ],
   "source": [
    "from sklearn.neighbors import KNeighborsClassifier\n",
    "train_df = pd.read_csv(\"./Q4_train.csv\")\n",
    "test_df = pd.read_csv(\"./Q4_test.csv\")\n",
    "\n",
    "X_train = train_df.iloc[:,:-1].values\n",
    "Y_train = train_df.iloc[:,-1].values\n",
    "X_test = test_df.iloc[:,:-1].values\n",
    "Y_test = test_df.iloc[:,-1].values\n",
    "lis = [3,6,9,12,15]\n",
    "loss = []\n",
    "for k,j in enumerate(lis):\n",
    "    neigh = KNeighborsClassifier(n_neighbors=lis[k])\n",
    "    neigh.fit(X_train, Y_train)\n",
    "    predictions_test = neigh.predict(X_test)\n",
    "    sum =0\n",
    "    for i,j in enumerate(predictions_test):\n",
    "        if predictions_test[i] != Y_test[i]:\n",
    "            sum+=1\n",
    "    loss.append(sum/len(Y_test))\n",
    "    \n",
    "plt.plot(lis,loss)\n",
    "print(loss)\n"
   ]
  },
  {
   "cell_type": "markdown",
   "metadata": {
    "pycharm": {
     "name": "#%% md\n"
    }
   },
   "source": [
    "#### b) Repeat the above using a K Nearest Neighbor Classifier with Manhattan Distance ($L_1$-distance)."
   ]
  },
  {
   "cell_type": "code",
   "execution_count": 12,
   "metadata": {
    "collapsed": true,
    "pycharm": {
     "name": "#%%\n"
    }
   },
   "outputs": [
    {
     "name": "stdout",
     "output_type": "stream",
     "text": [
      "[0.33858267716535434, 0.25984251968503935, 0.2637795275590551, 0.2440944881889764, 0.2559055118110236]\n"
     ]
    },
    {
     "data": {
      "image/png": "[encoded data removed]",
      "text/plain": [
       "<Figure size 640x480 with 1 Axes>"
      ]
     },
     "metadata": {},
     "output_type": "display_data"
    }
   ],
   "source": [
    "loss = []\n",
    "for k,j in enumerate(lis):\n",
    "    neigh = KNeighborsClassifier(n_neighbors=lis[k],p=1)\n",
    "    neigh.fit(X_train, Y_train)\n",
    "    predictions_test = neigh.predict(X_test)\n",
    "    sum =0\n",
    "    for i,j in enumerate(predictions_test):\n",
    "        if predictions_test[i] != Y_test[i]:\n",
    "            sum+=1\n",
    "    loss.append(sum/len(Y_test))\n",
    "    \n",
    "plt.plot(lis,loss)\n",
    "print(loss)"
   ]
  },
  {
   "cell_type": "markdown",
   "metadata": {},
   "source": [
    "#### c) Repeat the above using a Logistic Regression Classifier, and compare its testing error with those of the K Nearest Neighbor Classifiers. Do you observe any difference? Why?"
   ]
  },
  {
   "cell_type": "code",
   "execution_count": 13,
   "metadata": {
    "collapsed": true
   },
   "outputs": [
    {
     "name": "stdout",
     "output_type": "stream",
     "text": [
      "0.2204724409448819\n"
     ]
    }
   ],
   "source": [
    "from sklearn.linear_model import LogisticRegression\n",
    "predictions_test = LogisticRegression(random_state=0,max_iter=1000).fit(X_train, Y_train).predict(X_test)\n",
    "sum =0\n",
    "for i,j in enumerate(predictions_test):\n",
    "    if predictions_test[i] != Y_test[i]:\n",
    "        sum+=1\n",
    "print(sum/len(Y_test))"
   ]
  },
  {
   "cell_type": "markdown",
   "metadata": {},
   "source": [
    "The Logisticc Regression Classifier outperform the KNN classier. This might be at high dimension feature space, the training data for KNN might be too sparse, which make KNN less reliable. Meanwhile, the features both have uniform weight in prediction(through L1 or L2 distance)  and some feature like the DiabetesPedigreeFunction which ranges 0-1, might play minor role in distance computing."
   ]
  }
 ],
 "metadata": {
  "kernelspec": {
   "display_name": "Python 3 [3.7]",
   "language": "python",
   "name": "python3"
  },
  "language_info": {
   "codemirror_mode": {
    "name": "ipython",
    "version": 3
   },
   "file_extension": ".py",
   "mimetype": "text/x-python",
   "name": "python",
   "nbconvert_exporter": "python",
   "pygments_lexer": "ipython3",
   "version": "3.8.8"
  }
 },
 "nbformat": 4,
 "nbformat_minor": 4
}
